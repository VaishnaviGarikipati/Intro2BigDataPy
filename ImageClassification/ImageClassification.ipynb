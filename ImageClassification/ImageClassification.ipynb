{
 "cells": [
  {
   "cell_type": "code",
   "execution_count": 1,
   "metadata": {},
   "outputs": [],
   "source": [
    "import matplotlib.pyplot as plt\n",
    "import matplotlib.image as mpimg\n",
    "import numpy as np\n",
    "from PIL import Image\n",
    "from sklearn import neighbors"
   ]
  },
  {
   "cell_type": "code",
   "execution_count": 2,
   "metadata": {},
   "outputs": [
    {
     "data": {
      "image/png": "[encoded data removed]",
      "text/plain": [
       "<Figure size 432x288 with 1 Axes>"
      ]
     },
     "metadata": {
      "needs_background": "light"
     },
     "output_type": "display_data"
    }
   ],
   "source": [
    "image_files = ['farm1.jpg', 'farm2.jpg', 'farm3.jpg', 'farm4.jpg',\n",
    " 'farm5.jpg', 'farm6.jpg', 'farm7.jpg', 'farm8.jpg',\n",
    " 'city1.jpg', 'city2.jpg', 'city3.jpg', 'city4.jpg',\n",
    " 'city5.jpg', 'city6.jpg', 'city7.jpg', 'city8.jpg',\n",
    " 'desert1.jpg', 'desert2.jpg', 'desert3.jpg', 'desert4.jpg',\n",
    " 'desert5.jpg', 'desert6.jpg', 'desert7.jpg', 'desert8.jpg']\n",
    "\n",
    "farm_green = []\n",
    "farm_blue = []\n",
    "city_green = []\n",
    "city_blue = []\n",
    "desert_green = []\n",
    "desert_blue = []\n",
    "\n",
    "for image in image_files[:8]:\n",
    "    img = mpimg.imread(image)\n",
    "    RGBtuple = np.array(img).mean(axis=(0,1))\n",
    "    averageRed = RGBtuple[0]\n",
    "    averageGreen = RGBtuple[1]\n",
    "    averageBlue = RGBtuple[2]\n",
    "    totalColor = averageRed+averageGreen+averageBlue\n",
    "    percent_green = averageGreen/totalColor\n",
    "    percent_blue = averageBlue/totalColor\n",
    "    farm_green.append(percent_green)\n",
    "    farm_blue.append(percent_blue)\n",
    "for image in image_files[8:16]:\n",
    "    img = mpimg.imread(image)\n",
    "    RGBtuple = np.array(img).mean(axis=(0,1))\n",
    "    averageRed = RGBtuple[0]\n",
    "    averageGreen = RGBtuple[1]\n",
    "    averageBlue = RGBtuple[2]\n",
    "    totalColor = averageRed+averageGreen+averageBlue\n",
    "    percent_green = averageGreen/totalColor\n",
    "    percent_blue = averageBlue/totalColor\n",
    "    city_green.append(percent_green)\n",
    "    city_blue.append(percent_blue)\n",
    "for image in image_files[16:]:\n",
    "    img = mpimg.imread(image)\n",
    "    RGBtuple = np.array(img).mean(axis=(0,1))\n",
    "    averageRed = RGBtuple[0]\n",
    "    averageGreen = RGBtuple[1]\n",
    "    averageBlue = RGBtuple[2]\n",
    "    totalColor = averageRed+averageGreen+averageBlue\n",
    "    percent_green = averageGreen/totalColor\n",
    "    percent_blue = averageBlue/totalColor\n",
    "    desert_green.append(percent_green)\n",
    "    desert_blue.append(percent_blue)\n",
    "\n",
    "#scatter plot to show percentages of green and blue\n",
    "\n",
    "plt.scatter(farm_green, farm_blue, s=75, facecolors ='red', edgecolors='black', alpha=0.7)\n",
    "plt.scatter(city_green, city_blue, s=75, facecolors ='blue', edgecolors='black', alpha=0.7)\n",
    "plt.scatter(desert_green, desert_blue, s=75, facecolors ='green', edgecolors='black', alpha=0.7)\n",
    "plt.xlabel('Percentage of green')\n",
    "plt.ylabel('Percentage of blue')\n",
    "plt.title('Farm, city and desert training images')\n",
    "plt.legend(['Farm','City','Desert'])\n",
    "plt.show()"
   ]
  },
  {
   "cell_type": "code",
   "execution_count": 3,
   "metadata": {},
   "outputs": [
    {
     "name": "stdout",
     "output_type": "stream",
     "text": [
      "[0.38537916 0.27250258]\n",
      "[0.38947877 0.2416675 ]\n",
      "[0.37176749 0.2923693 ]\n",
      "[0.38534941 0.25567274]\n",
      "[0.38368854 0.26974449]\n",
      "[0.37822351 0.34243724]\n",
      "[0.35577841 0.26138973]\n",
      "[0.36318264 0.32079251]\n",
      "[0.33384679 0.33987008]\n",
      "[0.31457989 0.31740955]\n",
      "[0.32982159 0.30761097]\n",
      "[0.33021422 0.40329483]\n",
      "[0.31267745 0.37068047]\n",
      "[0.3620055  0.35922372]\n",
      "[0.33263931 0.28122414]\n",
      "[0.33155648 0.31387494]\n",
      "[0.28899154 0.26478622]\n",
      "[0.32887465 0.29461288]\n",
      "[0.32171351 0.24749944]\n",
      "[0.35209261 0.23171261]\n",
      "[0.32718513 0.21564911]\n",
      "[0.33655681 0.2638719 ]\n",
      "[0.34419192 0.13749538]\n",
      "[0.32732039 0.26438328]\n"
     ]
    },
    {
     "data": {
      "text/plain": [
       "KNeighborsClassifier(algorithm='auto', leaf_size=30, metric='minkowski',\n",
       "                     metric_params=None, n_jobs=None, n_neighbors=1, p=2,\n",
       "                     weights='distance')"
      ]
     },
     "execution_count": 3,
     "metadata": {},
     "output_type": "execute_result"
    }
   ],
   "source": [
    "training_target = ['farm', 'farm', 'farm', 'farm',\n",
    " 'farm', 'farm', 'farm', 'farm',\n",
    " 'city', 'city', 'city', 'city',\n",
    " 'city', 'city', 'city', 'city',\n",
    " 'desert', 'desert', 'desert', 'desert',\n",
    " 'desert', 'desert', 'desert', 'desert']\n",
    "\n",
    "training_data = np.zeros((24,2))\n",
    "\n",
    "for i in range(8):\n",
    "    training_data[i,0] = farm_green[i]\n",
    "    training_data[8+i,0] = city_green[i]\n",
    "    training_data[16+i,0] = desert_green[i]\n",
    "    training_data[i,1] = farm_blue[i]\n",
    "    training_data[8+i,1] = city_blue[i]\n",
    "    training_data[16+i,1] = desert_blue[i]\n",
    "    \n",
    "for i in training_data:\n",
    "    print(i)\n",
    "    \n",
    "k1 = neighbors.KNeighborsClassifier(1,weights='distance')\n",
    "k1.fit(training_data,training_target)"
   ]
  },
  {
   "cell_type": "code",
   "execution_count": 4,
   "metadata": {},
   "outputs": [
    {
     "name": "stdout",
     "output_type": "stream",
     "text": [
      "[0.3269592  0.32688513]\n",
      "[0.33429384 0.17936789]\n",
      "[0.35004008 0.24578861]\n",
      "Predicted test data is ['city' 'desert' 'desert']\n",
      "Actual test data is ['city', 'desert', 'farm']\n"
     ]
    }
   ],
   "source": [
    "test = ['test1.jpg','test2.jpg','test3.jpg']\n",
    "test_green = []\n",
    "test_blue = []\n",
    "for image in test:\n",
    "    img = mpimg.imread(image)\n",
    "    RGBtuple = np.array(img).mean(axis=(0,1))\n",
    "    averageRed = RGBtuple[0]\n",
    "    averageGreen = RGBtuple[1]\n",
    "    averageBlue = RGBtuple[2]\n",
    "    totalColor = averageRed+averageGreen+averageBlue\n",
    "    percent_green = averageGreen/totalColor\n",
    "    percent_blue = averageBlue/totalColor\n",
    "    test_green.append(percent_green)\n",
    "    test_blue.append(percent_blue)\n",
    "test_data = np.zeros((3,2))\n",
    "for i in range(3):\n",
    "    test_data[i,0] = test_green[i]\n",
    "    test_data[i,1] = test_blue[i]\n",
    "for i in test_data:\n",
    "    print(i)\n",
    "    \n",
    "test_Actual = ['city','desert','farm']\n",
    "\n",
    "k1_pred = k1.predict(test_data)\n",
    "print(\"Predicted test data is \"+str(k1_pred))\n",
    "print(\"Actual test data is \"+str(test_Actual))"
   ]
  }
 ],
 "metadata": {
  "kernelspec": {
   "display_name": "Python 3",
   "language": "python",
   "name": "python3"
  },
  "language_info": {
   "codemirror_mode": {
    "name": "ipython",
    "version": 3
   },
   "file_extension": ".py",
   "mimetype": "text/x-python",
   "name": "python",
   "nbconvert_exporter": "python",
   "pygments_lexer": "ipython3",
   "version": "3.7.4"
  }
 },
 "nbformat": 4,
 "nbformat_minor": 2
}
