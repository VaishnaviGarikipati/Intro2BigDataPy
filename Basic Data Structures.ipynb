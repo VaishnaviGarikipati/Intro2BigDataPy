{
 "cells": [
  {
   "cell_type": "markdown",
   "metadata": {},
   "source": [
    "Part 1: Primer"
   ]
  },
  {
   "cell_type": "markdown",
   "metadata": {},
   "source": [
    "1: Lists"
   ]
  },
  {
   "cell_type": "code",
   "execution_count": 1,
   "metadata": {},
   "outputs": [],
   "source": [
    "import pandas as pd\n",
    "import numpy as np"
   ]
  },
  {
   "cell_type": "markdown",
   "metadata": {},
   "source": [
    "1) Make a list with the spelled-out number strings ‘one’, ‘two’, ‘three’, ‘four’, and ‘five’\n",
    "in that order and call it myList."
   ]
  },
  {
   "cell_type": "code",
   "execution_count": 2,
   "metadata": {},
   "outputs": [
    {
     "name": "stdout",
     "output_type": "stream",
     "text": [
      "['one', 'two', 'three', 'four', 'five']\n"
     ]
    }
   ],
   "source": [
    "mylist = [\"one\", \"two\", \"three\", \"four\", \"five\"]\n",
    "print(mylist)"
   ]
  },
  {
   "cell_type": "markdown",
   "metadata": {},
   "source": [
    "2) Remove ‘three’ from the list using positional indexing."
   ]
  },
  {
   "cell_type": "code",
   "execution_count": 3,
   "metadata": {},
   "outputs": [
    {
     "name": "stdout",
     "output_type": "stream",
     "text": [
      "['one', 'two', 'four', 'five']\n"
     ]
    }
   ],
   "source": [
    "mylist = [\"one\", \"two\", \"three\", \"four\", \"five\"]\n",
    "del mylist[2]\n",
    "print(mylist)"
   ]
  },
  {
   "cell_type": "markdown",
   "metadata": {},
   "source": [
    "3) Check if ‘four’ is in the list."
   ]
  },
  {
   "cell_type": "code",
   "execution_count": 4,
   "metadata": {},
   "outputs": [
    {
     "name": "stdout",
     "output_type": "stream",
     "text": [
      "yes, four found in the list\n"
     ]
    }
   ],
   "source": [
    "mylist = [\"one\", \"two\", \"three\", \"four\", \"five\"]\n",
    "if \"four\" in mylist:\n",
    "    print(\"yes, four found in the list\")\n",
    "else:\n",
    "    print(\"no, four is not found in the list\")"
   ]
  },
  {
   "cell_type": "markdown",
   "metadata": {},
   "source": [
    "4) Append ‘six’ to the end of the list, then print the length of the list."
   ]
  },
  {
   "cell_type": "code",
   "execution_count": 5,
   "metadata": {},
   "outputs": [
    {
     "data": {
      "text/plain": [
       "6"
      ]
     },
     "execution_count": 5,
     "metadata": {},
     "output_type": "execute_result"
    }
   ],
   "source": [
    "mylist = [\"one\", \"two\", \"three\", \"four\", \"five\"]\n",
    "mylist.append(\"six\")\n",
    "len(mylist)"
   ]
  },
  {
   "cell_type": "markdown",
   "metadata": {},
   "source": [
    "5) Print the contents of the list, but also next to each item print the length of the string \n",
    "(e.g. one is 3, four is 4) using a for loop."
   ]
  },
  {
   "cell_type": "code",
   "execution_count": 6,
   "metadata": {
    "scrolled": true
   },
   "outputs": [
    {
     "name": "stdout",
     "output_type": "stream",
     "text": [
      "Length of one is 3\n",
      "Length of two is 3\n",
      "Length of three is 5\n",
      "Length of four is 4\n",
      "Length of five is 4\n",
      "Length of six is 3\n"
     ]
    }
   ],
   "source": [
    "for entry in mylist:\n",
    "        l = len(entry)\n",
    "        print(\"Length of\", entry, \"is\", l)"
   ]
  },
  {
   "cell_type": "markdown",
   "metadata": {},
   "source": [
    "6) Create a list only of the lengths of the strings and show your result.\n",
    "You can use the loop before to fill the list."
   ]
  },
  {
   "cell_type": "code",
   "execution_count": 7,
   "metadata": {
    "scrolled": true
   },
   "outputs": [
    {
     "name": "stdout",
     "output_type": "stream",
     "text": [
      "[3, 3, 5, 4, 4]\n"
     ]
    }
   ],
   "source": [
    "mylist = [\"one\", \"two\", \"three\", \"four\", \"five\"]\n",
    "newlist=[]\n",
    "for element in mylist:\n",
    "    newlist.append(len(element))\n",
    "print(newlist)"
   ]
  },
  {
   "cell_type": "markdown",
   "metadata": {},
   "source": [
    "2: Dictionaries"
   ]
  },
  {
   "cell_type": "markdown",
   "metadata": {},
   "source": [
    "1) Make a dictionary with the keys English words as below, and the values be the translation. You can use this language example (German) or choose your own. Note: you need to make sure all of these words are represented as strings, in quotes.\n",
    "apple - Apfel\n",
    "apples - Äpfel\n",
    "I - Ich\n",
    "and - und\n",
    "like - mag\n",
    "strawberries - Erdbeeren"
   ]
  },
  {
   "cell_type": "code",
   "execution_count": 8,
   "metadata": {},
   "outputs": [
    {
     "name": "stdout",
     "output_type": "stream",
     "text": [
      "{'apple': 'Apfel', 'apples': 'Äpfel', 'I': 'Ich', 'and': 'und', 'like': 'mag', 'strawberries': 'Erdbeeren'}\n"
     ]
    }
   ],
   "source": [
    "dict = {'apple' : 'Apfel', 'apples' : 'Äpfel', 'I' : 'Ich', 'and' : 'und', 'like' : 'mag', 'strawberries' : 'Erdbeeren'}\n",
    "print(dict)"
   ]
  },
  {
   "cell_type": "markdown",
   "metadata": {},
   "source": [
    "2) Use the dictionary to look up the translation for ‘apple’ and ‘like’."
   ]
  },
  {
   "cell_type": "code",
   "execution_count": 28,
   "metadata": {},
   "outputs": [
    {
     "name": "stdout",
     "output_type": "stream",
     "text": [
      "Apfel\n",
      "mag\n"
     ]
    }
   ],
   "source": [
    "print(dict.get(\"apple\"))\n",
    "print(dict[\"like\"])"
   ]
  },
  {
   "cell_type": "markdown",
   "metadata": {},
   "source": [
    "3) Make a variable var with the string “I like apples and strawberries”."
   ]
  },
  {
   "cell_type": "code",
   "execution_count": 10,
   "metadata": {
    "scrolled": true
   },
   "outputs": [
    {
     "name": "stdout",
     "output_type": "stream",
     "text": [
      "I like apples and strawberries\n"
     ]
    }
   ],
   "source": [
    "var = \"I like apples and strawberries\"\n",
    "print(var)"
   ]
  },
  {
   "cell_type": "markdown",
   "metadata": {},
   "source": [
    "4) Now create a list from var with each word a separate item (this is a string split operation)."
   ]
  },
  {
   "cell_type": "code",
   "execution_count": 11,
   "metadata": {},
   "outputs": [
    {
     "name": "stdout",
     "output_type": "stream",
     "text": [
      "['I', 'like', 'apples', 'and', 'strawberries']\n"
     ]
    }
   ],
   "source": [
    "newlist=var.split(\" \")\n",
    "print(newlist)"
   ]
  },
  {
   "cell_type": "markdown",
   "metadata": {},
   "source": [
    "5) Iterate through the list you’ve created and replace any word in your dictionary with the translation."
   ]
  },
  {
   "cell_type": "code",
   "execution_count": 12,
   "metadata": {},
   "outputs": [
    {
     "name": "stdout",
     "output_type": "stream",
     "text": [
      "['Ich', 'mag', 'Äpfel', 'und', 'Erdbeeren']\n"
     ]
    }
   ],
   "source": [
    "for i in range(len(newlist)):\n",
    "    newlist[i] = dict.get(newlist[i])\n",
    "print(newlist)"
   ]
  },
  {
   "cell_type": "markdown",
   "metadata": {},
   "source": [
    "6) Now take your new list and turn it into a string with spaces between the words."
   ]
  },
  {
   "cell_type": "code",
   "execution_count": 13,
   "metadata": {},
   "outputs": [
    {
     "name": "stdout",
     "output_type": "stream",
     "text": [
      "Ich mag Äpfel und Erdbeeren\n"
     ]
    }
   ],
   "source": [
    "print(\" \".join(newlist))"
   ]
  },
  {
   "cell_type": "markdown",
   "metadata": {},
   "source": [
    "3: Arrays"
   ]
  },
  {
   "cell_type": "markdown",
   "metadata": {},
   "source": [
    "1) Create an array of zeros of size 8 x 8 and print the data type of the array."
   ]
  },
  {
   "cell_type": "code",
   "execution_count": 14,
   "metadata": {},
   "outputs": [
    {
     "name": "stdout",
     "output_type": "stream",
     "text": [
      "[[0. 0. 0. 0. 0. 0. 0. 0.]\n",
      " [0. 0. 0. 0. 0. 0. 0. 0.]\n",
      " [0. 0. 0. 0. 0. 0. 0. 0.]\n",
      " [0. 0. 0. 0. 0. 0. 0. 0.]\n",
      " [0. 0. 0. 0. 0. 0. 0. 0.]\n",
      " [0. 0. 0. 0. 0. 0. 0. 0.]\n",
      " [0. 0. 0. 0. 0. 0. 0. 0.]\n",
      " [0. 0. 0. 0. 0. 0. 0. 0.]]\n",
      "float64\n"
     ]
    }
   ],
   "source": [
    "arr = np.zeros((8,8))\n",
    "print(arr)\n",
    "print(arr.dtype)"
   ]
  },
  {
   "cell_type": "markdown",
   "metadata": {},
   "source": [
    "2) Fill the array with the numbers 1 to 64 first by row, then by column. \n",
    "You may want to use a for loop inside a for loop to do this."
   ]
  },
  {
   "cell_type": "code",
   "execution_count": 15,
   "metadata": {},
   "outputs": [
    {
     "name": "stdout",
     "output_type": "stream",
     "text": [
      "[[ 1.  2.  3.  4.  5.  6.  7.  8.]\n",
      " [ 9. 10. 11. 12. 13. 14. 15. 16.]\n",
      " [17. 18. 19. 20. 21. 22. 23. 24.]\n",
      " [25. 26. 27. 28. 29. 30. 31. 32.]\n",
      " [33. 34. 35. 36. 37. 38. 39. 40.]\n",
      " [41. 42. 43. 44. 45. 46. 47. 48.]\n",
      " [49. 50. 51. 52. 53. 54. 55. 56.]\n",
      " [57. 58. 59. 60. 61. 62. 63. 64.]]\n"
     ]
    }
   ],
   "source": [
    "# define range of matrix columns and rows\n",
    "n = 8\n",
    "\n",
    "#loop to iterate over array to fill values\n",
    "for i in range(n):\n",
    "    for j in range(n):\n",
    "        if i==0 and j==0:\n",
    "            arr[i,j]=1\n",
    "        elif i<j:\n",
    "            arr[:,j]=arr[:,j-1]+1\n",
    "        elif j<i:\n",
    "            arr[i,:]=arr[i-1,:]+n\n",
    "print(arr)       "
   ]
  },
  {
   "cell_type": "markdown",
   "metadata": {},
   "source": [
    "3) Transpose the array."
   ]
  },
  {
   "cell_type": "code",
   "execution_count": 16,
   "metadata": {},
   "outputs": [
    {
     "name": "stdout",
     "output_type": "stream",
     "text": [
      "[[ 1.  9. 17. 25. 33. 41. 49. 57.]\n",
      " [ 2. 10. 18. 26. 34. 42. 50. 58.]\n",
      " [ 3. 11. 19. 27. 35. 43. 51. 59.]\n",
      " [ 4. 12. 20. 28. 36. 44. 52. 60.]\n",
      " [ 5. 13. 21. 29. 37. 45. 53. 61.]\n",
      " [ 6. 14. 22. 30. 38. 46. 54. 62.]\n",
      " [ 7. 15. 23. 31. 39. 47. 55. 63.]\n",
      " [ 8. 16. 24. 32. 40. 48. 56. 64.]]\n"
     ]
    }
   ],
   "source": [
    "#transpose of array\n",
    "arr_transpose = arr.transpose()\n",
    "print(arr_transpose)"
   ]
  },
  {
   "cell_type": "markdown",
   "metadata": {},
   "source": [
    "4) Print only the top 4 rows and columns."
   ]
  },
  {
   "cell_type": "code",
   "execution_count": 17,
   "metadata": {},
   "outputs": [
    {
     "name": "stdout",
     "output_type": "stream",
     "text": [
      "[[ 1.  2.  3.  4.]\n",
      " [ 9. 10. 11. 12.]\n",
      " [17. 18. 19. 20.]\n",
      " [25. 26. 27. 28.]]\n"
     ]
    }
   ],
   "source": [
    "#print 4 rows and columns of array\n",
    "print(arr[0:4,0:4])"
   ]
  },
  {
   "cell_type": "markdown",
   "metadata": {},
   "source": [
    "5) Make a 1D array out of your 2D array with the numbers 1 to 64 in order \n",
    "(note the column vs row issue, you may need transposes.)"
   ]
  },
  {
   "cell_type": "code",
   "execution_count": 18,
   "metadata": {},
   "outputs": [
    {
     "name": "stdout",
     "output_type": "stream",
     "text": [
      "[ 1.  2.  3.  4.  5.  6.  7.  8.  9. 10. 11. 12. 13. 14. 15. 16. 17. 18.\n",
      " 19. 20. 21. 22. 23. 24. 25. 26. 27. 28. 29. 30. 31. 32. 33. 34. 35. 36.\n",
      " 37. 38. 39. 40. 41. 42. 43. 44. 45. 46. 47. 48. 49. 50. 51. 52. 53. 54.\n",
      " 55. 56. 57. 58. 59. 60. 61. 62. 63. 64.]\n"
     ]
    }
   ],
   "source": [
    "#reshape the array into 1D\n",
    "arr_1D = arr.flatten()\n",
    "\n",
    "print(arr_1D)"
   ]
  },
  {
   "cell_type": "markdown",
   "metadata": {},
   "source": [
    "6) Now take that 1D array you made from before and reshape it back to the original 2D array."
   ]
  },
  {
   "cell_type": "code",
   "execution_count": 19,
   "metadata": {},
   "outputs": [
    {
     "name": "stdout",
     "output_type": "stream",
     "text": [
      "[[ 1.  2.  3.  4.  5.  6.  7.  8.]\n",
      " [ 9. 10. 11. 12. 13. 14. 15. 16.]\n",
      " [17. 18. 19. 20. 21. 22. 23. 24.]\n",
      " [25. 26. 27. 28. 29. 30. 31. 32.]\n",
      " [33. 34. 35. 36. 37. 38. 39. 40.]\n",
      " [41. 42. 43. 44. 45. 46. 47. 48.]\n",
      " [49. 50. 51. 52. 53. 54. 55. 56.]\n",
      " [57. 58. 59. 60. 61. 62. 63. 64.]]\n"
     ]
    }
   ],
   "source": [
    "#reshape 1D to 2D\n",
    "arr_2D = arr_1D.reshape(8,8)\n",
    "print(arr_2D)"
   ]
  },
  {
   "cell_type": "markdown",
   "metadata": {},
   "source": [
    "Part 2: Applications"
   ]
  },
  {
   "cell_type": "markdown",
   "metadata": {},
   "source": [
    "1. Word Counts"
   ]
  },
  {
   "cell_type": "markdown",
   "metadata": {},
   "source": [
    "Word counts are often used in text processing to automatically classify documents by topic. They are also used to automatically measure the “sentiment” by counting, for example, the number of positive or negative words used in the comment or essay. Write code to count the number of unique words in a very large string using the following steps."
   ]
  },
  {
   "cell_type": "markdown",
   "metadata": {},
   "source": [
    "a)First convert the string to a list with each word a separate item in the list. Hint: use a string split function for your language, and make sure it separates by “ ”. \n"
   ]
  },
  {
   "cell_type": "code",
   "execution_count": 29,
   "metadata": {},
   "outputs": [
    {
     "name": "stdout",
     "output_type": "stream",
     "text": [
      "Enter the string:Can you can a can as a canner can can a can\n",
      "['Can', 'you', 'can', 'a', 'can', 'as', 'a', 'canner', 'can', 'can', 'a', 'can']\n"
     ]
    }
   ],
   "source": [
    "#split string to list\n",
    "strng = input(\"Enter the string:\")\n",
    "\n",
    "strlist = strng.split(\" \")\n",
    "\n",
    "print(strlist)"
   ]
  },
  {
   "cell_type": "markdown",
   "metadata": {},
   "source": [
    "b)Then use a dictionary to associate each word with a count. Note, the dictionary won’t be able to increment a key unless you add it first, so you may have to check to see if it exists before setting the original count of a word to 1. \n"
   ]
  },
  {
   "cell_type": "code",
   "execution_count": 30,
   "metadata": {},
   "outputs": [
    {
     "name": "stdout",
     "output_type": "stream",
     "text": [
      "{'Can': 1, 'you': 1, 'can': 5, 'a': 3, 'as': 1, 'canner': 1}\n"
     ]
    }
   ],
   "source": [
    "#create dictonary with words and count\n",
    "word_dict={}\n",
    "for i in range(len(strlist)):\n",
    "    word_dict[strlist[i]]=strlist.count(strlist[i])\n",
    "       \n",
    "print(word_dict)  "
   ]
  },
  {
   "cell_type": "markdown",
   "metadata": {},
   "source": [
    "c)Print each word and its count afterwards, and test with an interesting block of text that will have multiple words counted multiple times. (Note, the words don’t have to be in any particular order.)\n"
   ]
  },
  {
   "cell_type": "code",
   "execution_count": 22,
   "metadata": {},
   "outputs": [
    {
     "data": {
      "text/plain": [
       "Can       1\n",
       "you       1\n",
       "can       5\n",
       "a         3\n",
       "as        1\n",
       "canner    1\n",
       "dtype: int64"
      ]
     },
     "execution_count": 22,
     "metadata": {},
     "output_type": "execute_result"
    }
   ],
   "source": [
    "#display output of string and count using series\n",
    "pd.Series(word_dict)"
   ]
  },
  {
   "cell_type": "markdown",
   "metadata": {},
   "source": [
    "2. Adding an Array Border"
   ]
  },
  {
   "cell_type": "markdown",
   "metadata": {},
   "source": [
    "As we will see later in the class, arrays can be used to represent images. In particular, black and white images can be represented by a 2D array, with one number (usually 0) representing black and another number (usually 1, but sometimes something else) representing white, and gray being everything in between. Here we just want to test your ability to handle a 2D array and add a border (filled with 0's) around it. In code this means creating an array of 0’s of width+2 by height+2 size and copying the original array into the middle appropriately (Note: do not use np.pad() function).\n"
   ]
  },
  {
   "cell_type": "markdown",
   "metadata": {},
   "source": [
    "Test with an array in the center that has non-zero elements. First print the original array, then print the new array with the added border of 0’s. For example:\n",
    "Expected Output:\n",
    "\n",
    "Original array: \n",
    "[[ 1 1 1 1 ] \n",
    " [ 1 1 1 1 ] \n",
    " [ 1 1 1 1 ]] \n",
    "\n",
    "New array (0 on the border and 1 inside in the array): \n",
    "[[ 0 0 0 0 0 0 ] \n",
    " [ 0 1 1 1 1 0 ] \n",
    " [ 0 1 1 1 1 0 ] \n",
    " [ 0 1 1 1 1 0 ] \n",
    " [ 0 0 0 0 0 0 ]]\n"
   ]
  },
  {
   "cell_type": "code",
   "execution_count": 23,
   "metadata": {},
   "outputs": [
    {
     "data": {
      "text/plain": [
       "array([[1., 1., 1.],\n",
       "       [1., 1., 1.],\n",
       "       [1., 1., 1.]])"
      ]
     },
     "execution_count": 23,
     "metadata": {},
     "output_type": "execute_result"
    }
   ],
   "source": [
    "#create a 3*3 matrix of ones\n",
    "arr_original = np.ones((3,3))\n",
    "arr_original"
   ]
  },
  {
   "cell_type": "code",
   "execution_count": 24,
   "metadata": {},
   "outputs": [
    {
     "data": {
      "text/plain": [
       "array([[0., 0., 0., 0., 0.],\n",
       "       [0., 1., 1., 1., 0.],\n",
       "       [0., 1., 1., 1., 0.],\n",
       "       [0., 1., 1., 1., 0.],\n",
       "       [0., 0., 0., 0., 0.]])"
      ]
     },
     "execution_count": 24,
     "metadata": {},
     "output_type": "execute_result"
    }
   ],
   "source": [
    "#Padding zeros to a matrix using hstack and vstack functions\n",
    "horizantal = np.zeros((3,1))\n",
    "vertical = np.zeros((1,5))\n",
    "\n",
    "np.vstack([np.vstack([vertical,np.hstack([np.hstack([horizantal,arr_original]),horizantal])]),vertical])"
   ]
  },
  {
   "cell_type": "markdown",
   "metadata": {},
   "source": [
    "3. Functions\n",
    "\n",
    "Encapsulate the previous code into functions. The first function word_count(text) prints each word and its count of text. The second function add_border(array) prints the original array and the new array with the added border of 0’s.\n"
   ]
  },
  {
   "cell_type": "code",
   "execution_count": 25,
   "metadata": {},
   "outputs": [
    {
     "name": "stdout",
     "output_type": "stream",
     "text": [
      "Enter the string:A skunk sat on a stump and thunk the stump stunk, but the stump thunk the skunk stunk\n"
     ]
    },
    {
     "data": {
      "text/plain": [
       "A         1\n",
       "skunk     2\n",
       "sat       1\n",
       "on        1\n",
       "a         1\n",
       "stump     3\n",
       "and       1\n",
       "thunk     2\n",
       "the       3\n",
       "stunk,    1\n",
       "but       1\n",
       "stunk     1\n",
       "dtype: int64"
      ]
     },
     "execution_count": 25,
     "metadata": {},
     "output_type": "execute_result"
    }
   ],
   "source": [
    "# FUnction to count the words in a strong\n",
    "def wordcount(strng):\n",
    "    strlist1 = strng.split()\n",
    "    word_dict1={}\n",
    "    for i in range(len(strlist1)):\n",
    "        word_dict1[strlist1[i]]=strlist1.count(strlist1[i])        \n",
    "    return(pd.Series(word_dict1))\n",
    "\n",
    "strng = input(\"Enter the string:\")\n",
    "\n",
    "wordcount(strng)"
   ]
  },
  {
   "cell_type": "code",
   "execution_count": 39,
   "metadata": {},
   "outputs": [
    {
     "name": "stdout",
     "output_type": "stream",
     "text": [
      "original array is: \n",
      " [[1. 1. 1.]\n",
      " [1. 1. 1.]\n",
      " [1. 1. 1.]]\n"
     ]
    },
    {
     "data": {
      "text/plain": [
       "array([[0., 0., 0., 0., 0.],\n",
       "       [0., 1., 1., 1., 0.],\n",
       "       [0., 1., 1., 1., 0.],\n",
       "       [0., 1., 1., 1., 0.],\n",
       "       [0., 0., 0., 0., 0.]])"
      ]
     },
     "execution_count": 39,
     "metadata": {},
     "output_type": "execute_result"
    }
   ],
   "source": [
    "#function to add array border\n",
    "def arrayborder(arr):\n",
    "    n = arr.shape[0]\n",
    "    m = arr.shape[1]\n",
    "    horizon = np.zeros((n,1))\n",
    "    vertical = np.zeros((1,m+2))\n",
    "    arr_new = np.vstack([np.vstack([vertical,np.hstack([np.hstack([horizon,arr]),horizon])]),vertical])\n",
    "    print(\"original array is: \\n\",arr)\n",
    "    return arr_new\n",
    "   \n",
    "arr = np.ones((3,3))\n",
    "\n",
    "arrayborder(arr)"
   ]
  }
 ],
 "metadata": {
  "kernelspec": {
   "display_name": "Python 3",
   "language": "python",
   "name": "python3"
  },
  "language_info": {
   "codemirror_mode": {
    "name": "ipython",
    "version": 3
   },
   "file_extension": ".py",
   "mimetype": "text/x-python",
   "name": "python",
   "nbconvert_exporter": "python",
   "pygments_lexer": "ipython3",
   "version": "3.7.4"
  }
 },
 "nbformat": 4,
 "nbformat_minor": 2
}
