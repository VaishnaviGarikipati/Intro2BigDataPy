{
 "cells": [
  {
   "cell_type": "code",
   "execution_count": 1,
   "metadata": {},
   "outputs": [
    {
     "name": "stdout",
     "output_type": "stream",
     "text": [
      "Requirement already satisfied: opencv-python in c:\\users\\dines\\anaconda3\\lib\\site-packages (4.2.0.32)\n",
      "Requirement already satisfied: numpy>=1.14.5 in c:\\users\\dines\\anaconda3\\lib\\site-packages (from opencv-python) (1.16.5)\n",
      "Note: you may need to restart the kernel to use updated packages.\n"
     ]
    }
   ],
   "source": [
    "pip install opencv-python"
   ]
  },
  {
   "cell_type": "code",
   "execution_count": 2,
   "metadata": {},
   "outputs": [],
   "source": [
    "import numpy as np\n",
    "from sklearn.cluster import KMeans\n",
    "import matplotlib.pyplot as plt\n",
    "import cv2\n",
    "from collections import Counter\n",
    "from skimage.color import rgb2lab, deltaE_cie76\n",
    "import os\n",
    "from sklearn import neighbors\n",
    "from sklearn.tree import DecisionTreeClassifier\n",
    "from sklearn import metrics"
   ]
  },
  {
   "cell_type": "code",
   "execution_count": 3,
   "metadata": {},
   "outputs": [
    {
     "name": "stdout",
     "output_type": "stream",
     "text": [
      "Predicted test data is ['city' 'desert' 'desert']\n",
      "Actual test data is ['city', 'desert', 'farm']\n",
      "Accuracy: 0.6666666666666666\n"
     ]
    }
   ],
   "source": [
    "imagefiles = ['farm1.jpg', 'farm2.jpg', 'farm3.jpg', 'farm4.jpg',\n",
    " 'farm5.jpg', 'farm6.jpg', 'farm7.jpg', 'farm8.jpg',\n",
    " 'city1.jpg', 'city2.jpg', 'city3.jpg', 'city4.jpg',\n",
    " 'city5.jpg', 'city6.jpg', 'city7.jpg', 'city8.jpg',\n",
    " 'desert1.jpg', 'desert2.jpg', 'desert3.jpg', 'desert4.jpg',\n",
    " 'desert5.jpg', 'desert6.jpg', 'desert7.jpg', 'desert8.jpg']\n",
    "\n",
    "testfiles = [\"test1.jpg\",\"test2.jpg\",\"test3.jpg\"]\n",
    "\n",
    "training_target = ['farm', 'farm', 'farm', 'farm',\n",
    " 'farm', 'farm', 'farm', 'farm',\n",
    " 'city', 'city', 'city', 'city',\n",
    " 'city', 'city', 'city', 'city',\n",
    " 'desert', 'desert', 'desert', 'desert',\n",
    " 'desert', 'desert', 'desert', 'desert']\n",
    "\n",
    "test_Actual = ['city','desert','farm']\n",
    "\n",
    "training_data = np.zeros((24,2))\n",
    "\n",
    "testing_data = np.zeros((3,2))\n",
    "\n",
    "r = 0\n",
    "\n",
    "def imageload(filename):\n",
    "    file = cv2.imread(filename)\n",
    "    file = cv2.cvtColor(file, cv2.COLOR_BGR2RGB)\n",
    "    return file\n",
    "\n",
    "def datageneration(image,split,r):\n",
    "    pic = imageload(image)\n",
    "    rehshaped_pic = pic.reshape(pic.shape[0]*pic.shape[1], 3)\n",
    "    classifier = KMeans(n_clusters = 1)\n",
    "    labels = classifier.fit_predict(rehshaped_pic)\n",
    "    labelcounts = Counter(labels)\n",
    "    center_colors = classifier.cluster_centers_\n",
    "    for key in labelcounts.keys():\n",
    "        rgb_colors = [center_colors[key]]\n",
    "        rgb_sum = rgb_colors[0][0]+rgb_colors[0][1]+rgb_colors[0][2]\n",
    "        green_perc = rgb_colors[0][1]/rgb_sum\n",
    "        blue_perc = rgb_colors[0][2]/rgb_sum\n",
    "        if split==\"train\":\n",
    "            training_data[r,0] = green_perc\n",
    "            training_data[r,1] = blue_perc\n",
    "        elif split==\"test\":\n",
    "            testing_data[r,0] = green_perc\n",
    "            testing_data[r,1] = blue_perc\n",
    "       \n",
    "    if split==\"train\":\n",
    "        return training_data\n",
    "    if split==\"test\":\n",
    "        return testing_data\n",
    "    \n",
    "r = 0\n",
    "        \n",
    "#training data\n",
    "for image in imagefiles:\n",
    "    train_data = datageneration(image,\"train\",r)\n",
    "    r = r+1\n",
    "\n",
    "k=0\n",
    "#test data\n",
    "for file in testfiles:\n",
    "    test_data = datageneration(file,\"test\",k)\n",
    "    k = k+1\n",
    "    \n",
    "#Decision tree classifier    \n",
    "clf = DecisionTreeClassifier()\n",
    "\n",
    "clf = clf.fit(train_data,training_target)\n",
    "\n",
    "test_predicted = clf.predict(test_data)\n",
    "\n",
    "print(\"Predicted test data is \"+str(test_predicted))\n",
    "\n",
    "print(\"Actual test data is \"+str(test_Actual))\n",
    "\n",
    "print(\"Accuracy:\",metrics.accuracy_score(test_Actual, test_predicted))\n",
    "\n",
    "\n",
    "\n",
    "    \n",
    "    \n"
   ]
  },
  {
   "cell_type": "code",
   "execution_count": 4,
   "metadata": {},
   "outputs": [
    {
     "name": "stdout",
     "output_type": "stream",
     "text": [
      "Predicted test data is ['city' 'desert' 'desert']\n",
      "Actual test data is ['city', 'desert', 'farm']\n"
     ]
    }
   ],
   "source": [
    "#Knn Claffier\n",
    "knn_classifier = neighbors.KNeighborsClassifier(1,weights='distance')\n",
    "\n",
    "knn_classifier.fit(training_data,training_target)\n",
    "\n",
    "test_pred1 = knn_classifier.predict(test_data)\n",
    "\n",
    "print(\"Predicted test data is \"+str(test_pred1))\n",
    "\n",
    "print(\"Actual test data is \"+str(test_Actual))"
   ]
  },
  {
   "cell_type": "code",
   "execution_count": null,
   "metadata": {},
   "outputs": [],
   "source": []
  }
 ],
 "metadata": {
  "kernelspec": {
   "display_name": "Python 3",
   "language": "python",
   "name": "python3"
  },
  "language_info": {
   "codemirror_mode": {
    "name": "ipython",
    "version": 3
   },
   "file_extension": ".py",
   "mimetype": "text/x-python",
   "name": "python",
   "nbconvert_exporter": "python",
   "pygments_lexer": "ipython3",
   "version": "3.7.4"
  },
  "toc": {
   "base_numbering": 1,
   "nav_menu": {},
   "number_sections": true,
   "sideBar": true,
   "skip_h1_title": false,
   "title_cell": "Table of Contents",
   "title_sidebar": "Contents",
   "toc_cell": false,
   "toc_position": {},
   "toc_section_display": true,
   "toc_window_display": false
  }
 },
 "nbformat": 4,
 "nbformat_minor": 2
}
